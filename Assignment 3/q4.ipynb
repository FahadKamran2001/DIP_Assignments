{
 "cells": [
  {
   "cell_type": "code",
   "execution_count": 1,
   "metadata": {},
   "outputs": [
    {
     "name": "stdout",
     "output_type": "stream",
     "text": [
      "Number of black pixels: 1332 - Frequency: 1\n",
      "Number of black pixels: 1296 - Frequency: 1\n",
      "Number of black pixels: 1291 - Frequency: 1\n",
      "Number of black pixels: 1288 - Frequency: 2\n",
      "Number of black pixels: 1285 - Frequency: 1\n",
      "Number of black pixels: 1282 - Frequency: 2\n",
      "Number of black pixels: 1281 - Frequency: 6\n",
      "Number of black pixels: 1280 - Frequency: 1\n",
      "Number of black pixels: 1279 - Frequency: 7\n",
      "Number of black pixels: 1278 - Frequency: 16\n",
      "Number of black pixels: 1277 - Frequency: 61\n",
      "Number of black pixels: 1276 - Frequency: 205\n",
      "Number of black pixels: 1275 - Frequency: 353\n",
      "Number of black pixels: 1274 - Frequency: 429\n",
      "Number of black pixels: 1273 - Frequency: 565\n",
      "Number of black pixels: 1272 - Frequency: 725\n",
      "Number of black pixels: 1271 - Frequency: 529\n",
      "Number of black pixels: 1270 - Frequency: 243\n",
      "Number of black pixels: 1269 - Frequency: 108\n",
      "Number of black pixels: 1268 - Frequency: 35\n",
      "Number of black pixels: 1267 - Frequency: 10\n",
      "Number of black pixels: 1266 - Frequency: 2\n",
      "Number of black pixels: 1265 - Frequency: 4\n",
      "Number of black pixels: 1264 - Frequency: 3\n",
      "Number of black pixels: 1263 - Frequency: 2\n",
      "Number of black pixels: 1262 - Frequency: 1\n",
      "Number of black pixels: 1260 - Frequency: 1\n",
      "Number of black pixels: 1259 - Frequency: 1\n",
      "Number of black pixels: 1258 - Frequency: 1\n"
     ]
    }
   ],
   "source": [
    "#code for detecting which thresholds have how many occurences\n",
    "\n",
    "import cv2\n",
    "\n",
    "video = cv2.VideoCapture('video_width.mp4')\n",
    "frames = []\n",
    "while True:\n",
    "    ret, frame = video.read()\n",
    "    if not ret:\n",
    "        break\n",
    "    frames.append(frame)\n",
    "video.release()\n",
    "\n",
    "def convert_to_bw(frame):\n",
    "    gray = cv2.cvtColor(frame, cv2.COLOR_BGR2GRAY)\n",
    "    _, threshold = cv2.threshold(gray, 0, 255, cv2.THRESH_BINARY_INV | cv2.THRESH_OTSU)\n",
    "    return threshold\n",
    "\n",
    "frames_bw = [convert_to_bw(frame) for frame in frames]\n",
    "\n",
    "def count_black_pixels(frame):\n",
    "    return cv2.countNonZero(frame[200])\n",
    "\n",
    "frames_black_counts = [count_black_pixels(frame) for frame in frames_bw]\n",
    "black_counts = frames_black_counts\n",
    "black_counts_set = set(black_counts)\n",
    "black_counts_dict = {count: black_counts.count(count) for count in black_counts_set}\n",
    "\n",
    "# Print the dictionary in sorted order of descending\n",
    "for count, freq in sorted(black_counts_dict.items(), key=lambda item: item[0], reverse=True):\n",
    "    print(f\"Number of black pixels: {count} - Frequency: {freq}\")"
   ]
  },
  {
   "cell_type": "code",
   "execution_count": 9,
   "metadata": {},
   "outputs": [
    {
     "name": "stdout",
     "output_type": "stream",
     "text": [
      "Conversion complete. Output video saved to: output_video_bw.mp4\n"
     ]
    }
   ],
   "source": [
    "#black and white version video generation of the input video for easier processsing like done in the code above\n",
    "import cv2\n",
    "\n",
    "def convert_to_black_and_white(input_video_path, output_video_path):\n",
    "    # Open the video file\n",
    "    cap = cv2.VideoCapture(input_video_path)\n",
    "\n",
    "    # Get the video's frames per second (fps) and size\n",
    "    fps = cap.get(cv2.CAP_PROP_FPS)\n",
    "    width = int(cap.get(cv2.CAP_PROP_FRAME_WIDTH))\n",
    "    height = int(cap.get(cv2.CAP_PROP_FRAME_HEIGHT))\n",
    "\n",
    "    # Create VideoWriter object to save the output video\n",
    "    fourcc = cv2.VideoWriter_fourcc(*'mp4v')  # You can also try other codecs like 'XVID'\n",
    "    out = cv2.VideoWriter(output_video_path, fourcc, fps, (width, height), isColor=False)\n",
    "\n",
    "    while cap.isOpened():\n",
    "        ret, frame = cap.read()\n",
    "        if not ret:\n",
    "            break\n",
    "\n",
    "        # Convert the frame to black and white\n",
    "        gray_frame = cv2.cvtColor(frame, cv2.COLOR_BGR2GRAY)\n",
    "\n",
    "        # Thresholding to make it strictly black and white\n",
    "        _, black_and_white_frame = cv2.threshold(gray_frame, 200, 255, cv2.THRESH_BINARY)\n",
    "\n",
    "        # Write the frame to the output video\n",
    "        out.write(black_and_white_frame)\n",
    "\n",
    "    # Release the VideoCapture and VideoWriter objects\n",
    "    cap.release()\n",
    "    out.release()\n",
    "\n",
    "    print(\"Conversion complete. Output video saved to:\", output_video_path)\n",
    "\n",
    "# Replace 'input_video.mp4' and 'output_video_bw.mp4' with your input and output video paths\n",
    "convert_to_black_and_white('video_width.mp4', 'output_video_bw.mp4')\n"
   ]
  },
  {
   "cell_type": "code",
   "execution_count": 11,
   "metadata": {},
   "outputs": [
    {
     "name": "stdout",
     "output_type": "stream",
     "text": [
      "Check 'out_of_range_frames.txt' for frames with black pixel counts out of the specified range.\n"
     ]
    }
   ],
   "source": [
    "import cv2\n",
    "\n",
    "video = cv2.VideoCapture('video_width.mp4')\n",
    "frames = []\n",
    "while True:\n",
    "    ret, frame = video.read()\n",
    "    if not ret:\n",
    "        break\n",
    "    frames.append(frame)\n",
    "video.release()\n",
    "\n",
    "def convert_to_bw(frame):\n",
    "    gray = cv2.cvtColor(frame, cv2.COLOR_BGR2GRAY)\n",
    "    _, threshold = cv2.threshold(gray, 0, 255, cv2.THRESH_BINARY_INV | cv2.THRESH_OTSU)\n",
    "    return threshold\n",
    "\n",
    "frames_bw = [convert_to_bw(frame) for frame in frames]\n",
    "\n",
    "def count_black_pixels(frame):\n",
    "    return cv2.countNonZero(frame[200])\n",
    "\n",
    "frames_black_counts = [count_black_pixels(frame) for frame in frames_bw]\n",
    "\n",
    "# Specify the range for black pixel counts\n",
    "lower_threshold = 1269\n",
    "upper_threshold = 1276\n",
    "\n",
    "# Open a text file to append frame numbers\n",
    "with open('out_of_range_frames.txt', 'a') as file:\n",
    "    # Check each frame's black pixel count\n",
    "    for frame_num, black_count in enumerate(frames_black_counts):\n",
    "        if not (lower_threshold <= black_count <= upper_threshold):\n",
    "            # If out of range, append the frame number to the text file\n",
    "            file.write(f\"Frame {frame_num + 1} has {black_count} black pixels\\n\")\n",
    "\n",
    "print(\"Check 'out_of_range_frames.txt' for frames with black pixel counts out of the specified range.\")\n"
   ]
  }
 ],
 "metadata": {
  "kernelspec": {
   "display_name": "Python 3",
   "language": "python",
   "name": "python3"
  },
  "language_info": {
   "codemirror_mode": {
    "name": "ipython",
    "version": 3
   },
   "file_extension": ".py",
   "mimetype": "text/x-python",
   "name": "python",
   "nbconvert_exporter": "python",
   "pygments_lexer": "ipython3",
   "version": "3.11.6"
  }
 },
 "nbformat": 4,
 "nbformat_minor": 2
}
