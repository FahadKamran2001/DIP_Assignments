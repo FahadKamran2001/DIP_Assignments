{
 "cells": [
  {
   "cell_type": "code",
   "execution_count": 3,
   "metadata": {},
   "outputs": [],
   "source": [
    "import cv2\n",
    "import numpy as np\n",
    "from skimage import io, exposure\n",
    "\n",
    "# Read the image\n",
    "image = io.imread('D:/Semester 7/DIP/Assignment 3/Assignment#3/data/skip_fabric.jpg')\n",
    "\n",
    "# Rescale the image intensity\n",
    "image = exposure.rescale_intensity(image, out_range=(0, 255))\n",
    "\n",
    "# Convert the image data type to 8-bit unsigned integers\n",
    "image = np.uint8(image)\n",
    "\n",
    "# Convert to grayscale\n",
    "gray = cv2.cvtColor(image, cv2.COLOR_BGR2GRAY)\n",
    "\n",
    "# Apply Gaussian blur\n",
    "blurred = cv2.GaussianBlur(gray, (13, 3), 0)\n",
    "\n",
    "# Apply closing to the blurred image\n",
    "kernel = np.ones((10, 30), np.uint8)\n",
    "closing = cv2.morphologyEx(blurred, cv2.MORPH_CLOSE, kernel)\n",
    "\n",
    "# Perform edge detection\n",
    "edges = cv2.Canny(closing, 95,255)\n",
    "# Find contours in the edge detected image\n",
    "contours, _ = cv2.findContours(edges, cv2.RETR_EXTERNAL, cv2.CHAIN_APPROX_SIMPLE)\n",
    "\n",
    "# Filter out small contours to ignore noise\n",
    "contours = [c for c in contours if cv2.contourArea(c) > 0]\n",
    "\n",
    "# Draw the contours on the original image in red\n",
    "cv2.drawContours(image, contours, -1, (0, 0, 255), 2)\n",
    "\n",
    "# Visualize the results\n",
    "cv2.imshow('Gap Detection', image)\n",
    "cv2.waitKey(0)\n",
    "cv2.destroyAllWindows()\n",
    "# Visualize the results\n",
    "#cv2.imshow('Original Image', image)\n",
    "#cv2.imshow('Detected Edges', edges)\n",
    "#cv2.waitKey(0)\n",
    "#cv2.destroyAllWindows()"
   ]
  }
 ],
 "metadata": {
  "kernelspec": {
   "display_name": "Python 3",
   "language": "python",
   "name": "python3"
  },
  "language_info": {
   "codemirror_mode": {
    "name": "ipython",
    "version": 3
   },
   "file_extension": ".py",
   "mimetype": "text/x-python",
   "name": "python",
   "nbconvert_exporter": "python",
   "pygments_lexer": "ipython3",
   "version": "3.11.6"
  }
 },
 "nbformat": 4,
 "nbformat_minor": 2
}
