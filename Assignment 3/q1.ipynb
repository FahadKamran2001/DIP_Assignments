{
 "cells": [
  {
   "cell_type": "code",
   "execution_count": 3,
   "metadata": {},
   "outputs": [],
   "source": [
    "import cv2\n",
    "\n",
    "# List of image file paths\n",
    "images = ['1.jpg', '2.jpg', '3.jpg', '4.jpg']\n",
    "\n",
    "# Loop through the images and compare them with each other\n",
    "for i in range(len(images)):\n",
    "    for j in range(i+1, len(images)):\n",
    "        # Read images\n",
    "        img1 = cv2.imread(images[i])\n",
    "        img2 = cv2.imread(images[j])\n",
    "\n",
    "        # Calculate absolute difference between the two images\n",
    "        diff = cv2.absdiff(img1, img2)\n",
    "\n",
    "        # Identify color variations and highlight them\n",
    "        mask = cv2.cvtColor(diff, cv2.COLOR_BGR2GRAY)\n",
    "        _, mask = cv2.threshold(mask, 25, 255, cv2.THRESH_BINARY)\n",
    "        mask = cv2.cvtColor(mask, cv2.COLOR_GRAY2BGR)\n",
    "\n",
    "        highlighted_diff = cv2.bitwise_and(diff, mask)\n",
    "\n",
    "        # Resize the resulting image to 50%\n",
    "        highlighted_diff = cv2.resize(highlighted_diff, (0,0), fx=0.3, fy=0.3)\n",
    "\n",
    "        # Display the resulting images\n",
    "        cv2.imshow(f'Original Image {i+1} vs {j+1}', highlighted_diff)\n",
    "\n",
    "        cv2.waitKey(0)\n",
    "        cv2.destroyAllWindows()"
   ]
  }
 ],
 "metadata": {
  "kernelspec": {
   "display_name": "Python 3",
   "language": "python",
   "name": "python3"
  },
  "language_info": {
   "codemirror_mode": {
    "name": "ipython",
    "version": 3
   },
   "file_extension": ".py",
   "mimetype": "text/x-python",
   "name": "python",
   "nbconvert_exporter": "python",
   "pygments_lexer": "ipython3",
   "version": "3.11.6"
  }
 },
 "nbformat": 4,
 "nbformat_minor": 2
}
