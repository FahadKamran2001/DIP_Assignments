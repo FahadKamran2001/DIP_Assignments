{
 "cells": [
  {
   "cell_type": "code",
   "execution_count": 12,
   "metadata": {},
   "outputs": [
    {
     "name": "stdout",
     "output_type": "stream",
     "text": [
      "*** Shape is a Rectangle ***\n"
     ]
    }
   ],
   "source": [
    "import cv2\n",
    "import numpy as np\n",
    "image = cv2.imread('rect1.jpg')\n",
    "gray = cv2.cvtColor(image, cv2.COLOR_BGR2GRAY)\n",
    "_, thresh = cv2.threshold(gray, 200, 255, cv2.THRESH_BINARY)\n",
    "contours, _ = cv2.findContours(thresh, cv2.RETR_EXTERNAL, cv2.CHAIN_APPROX_SIMPLE)\n",
    "shape = []\n",
    "for contour in contours:\n",
    "    epsilon = 0.04 * cv2.arcLength(contour, True)\n",
    "    approx = cv2.approxPolyDP(contour, epsilon, True)\n",
    "    if len(approx) == 4:\n",
    "        shape.append(approx)\n",
    "for rect in shape:\n",
    "   cv2.drawContours(image, [rect], -1, (0, 255, 0), 2)\n",
    "\n",
    "\n",
    "cv2.imshow(\"Image with Rectangles\", image)\n",
    "cv2.waitKey(0)\n",
    "cv2.destroyAllWindows()\n",
    "\n",
    "# Print the parameters of the rectangles based on length and width comparison\n",
    "for i, rect in enumerate(shape):\n",
    "    x, y, w, h = cv2.boundingRect(rect)\n",
    "    if w == h:\n",
    "        print(\"Shape is a Square\")\n",
    "    else:\n",
    "        print(\"*** Shape is a Rectangle ***\")\n"
   ]
  }
 ],
 "metadata": {
  "kernelspec": {
   "display_name": "Python 3",
   "language": "python",
   "name": "python3"
  },
  "language_info": {
   "codemirror_mode": {
    "name": "ipython",
    "version": 3
   },
   "file_extension": ".py",
   "mimetype": "text/x-python",
   "name": "python",
   "nbconvert_exporter": "python",
   "pygments_lexer": "ipython3",
   "version": "3.11.5"
  },
  "orig_nbformat": 4
 },
 "nbformat": 4,
 "nbformat_minor": 2
}
