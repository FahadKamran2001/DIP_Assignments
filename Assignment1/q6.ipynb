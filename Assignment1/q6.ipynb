{
 "cells": [
  {
   "cell_type": "code",
   "execution_count": 41,
   "metadata": {},
   "outputs": [
    {
     "name": "stdout",
     "output_type": "stream",
     "text": [
      "Segment #: 1\n",
      "Width: 1\n",
      "Height: 1\n",
      "Segment #: 2\n",
      "Width: 2\n",
      "Height: 15\n",
      "Segment #: 3\n",
      "Width: 1\n",
      "Height: 15\n",
      "Segment #: 4\n",
      "Width: 36\n",
      "Height: 149\n",
      "Segment #: 5\n",
      "Width: 1\n",
      "Height: 1\n",
      "Segment #: 6\n",
      "Width: 36\n",
      "Height: 284\n"
     ]
    }
   ],
   "source": [
    "import cv2\n",
    "import numpy as np\n",
    "# converting the image to grey scale then applying gausian blur to remove noise and then thresholding the image\n",
    "image = cv2.imread('finger-bones.jpg')\n",
    "gray = cv2.cvtColor(image, cv2.COLOR_BGR2GRAY)\n",
    "blur = cv2.GaussianBlur(gray, (1, 5), 0)\n",
    "thresh = cv2.threshold(blur, 127, 255, cv2.THRESH_BINARY_INV)[1]\n",
    "cnts = cv2.findContours(thresh, cv2.RETR_EXTERNAL, cv2.CHAIN_APPROX_SIMPLE)\n",
    "cnts = cnts[0] if len(cnts) == 2 else cnts[1]\n",
    "cv2.drawContours(image, cnts, -1, (0, 255, 0), 2)\n",
    "boxes = [cv2.boundingRect(cnt) for cnt in cnts]\n",
    "max_widths = [box[2] for box in boxes]\n",
    "max_heights = [box[3] for box in boxes]\n",
    "for i, box in enumerate(boxes):\n",
    "    print(\"Segment #:\", i+1)\n",
    "    print(\"Width:\", max_widths[i])\n",
    "    print(\"Height:\", max_heights[i])\n",
    "cv2.imshow('Image', image)\n",
    "cv2.waitKey( 0)\n",
    "cv2.destroyAllWindows()"
   ]
  },
  {
   "cell_type": "code",
   "execution_count": null,
   "metadata": {},
   "outputs": [],
   "source": []
  }
 ],
 "metadata": {
  "kernelspec": {
   "display_name": "Python 3",
   "language": "python",
   "name": "python3"
  },
  "language_info": {
   "codemirror_mode": {
    "name": "ipython",
    "version": 3
   },
   "file_extension": ".py",
   "mimetype": "text/x-python",
   "name": "python",
   "nbconvert_exporter": "python",
   "pygments_lexer": "ipython3",
   "version": "3.11.5"
  },
  "orig_nbformat": 4
 },
 "nbformat": 4,
 "nbformat_minor": 2
}
