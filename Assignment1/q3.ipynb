{
 "cells": [
  {
   "cell_type": "code",
   "execution_count": 2,
   "metadata": {},
   "outputs": [
    {
     "name": "stdout",
     "output_type": "stream",
     "text": [
      "438.73742312771174\n",
      "4.729869835880023\n"
     ]
    }
   ],
   "source": [
    "import cv2\n",
    "import numpy as np\n",
    "\n",
    "def determine_blurriness(original_path, blurred_path):\n",
    "    original_image = cv2.imread(original_path, cv2.IMREAD_GRAYSCALE)\n",
    "    blurred_image = cv2.imread(blurred_path, cv2.IMREAD_GRAYSCALE)\n",
    "    # Calculate the Laplacian variance to measure image sharpness\n",
    "    original_var = cv2.Laplacian(original_image, cv2.CV_64F).var()\n",
    "    blurred_var = cv2.Laplacian(blurred_image, cv2.CV_64F).var()\n",
    "    print(original_var)\n",
    "    print(blurred_var)\n",
    "    # Determine which image is sharper\n",
    "    if original_var > blurred_var:\n",
    "        return \"Original Image\", \"Blurred Image\"\n",
    "    else:\n",
    "        return \"Blurred Image\", \"Original Image\"\n",
    "\n",
    "original_image_path = 'fig5.jpg'\n",
    "blurred_image_path = 'fig5_blur.jpg' \n",
    "original, blurred = determine_blurriness(original_image_path, blurred_image_path)\n",
    "# Display the images with their titles\n",
    "original_image = cv2.imread(original_image_path)\n",
    "blurred_image = cv2.imread(blurred_image_path)\n",
    "cv2.imshow(original, original_image)\n",
    "cv2.imshow(blurred, blurred_image)\n",
    "cv2.waitKey(0)\n",
    "cv2.destroyAllWindows()\n"
   ]
  }
 ],
 "metadata": {
  "kernelspec": {
   "display_name": "Python 3",
   "language": "python",
   "name": "python3"
  },
  "language_info": {
   "codemirror_mode": {
    "name": "ipython",
    "version": 3
   },
   "file_extension": ".py",
   "mimetype": "text/x-python",
   "name": "python",
   "nbconvert_exporter": "python",
   "pygments_lexer": "ipython3",
   "version": "3.11.5"
  },
  "orig_nbformat": 4
 },
 "nbformat": 4,
 "nbformat_minor": 2
}
