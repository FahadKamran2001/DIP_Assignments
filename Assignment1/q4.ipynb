{
 "cells": [
  {
   "cell_type": "code",
   "execution_count": 22,
   "metadata": {},
   "outputs": [],
   "source": [
    "import cv2\n",
    "import numpy as np\n",
    "from collections import Counter\n",
    "\n",
    "#convert the image to grey scale then using counter function, count the number of occurrence of each pixel value, and sort them, the top 4 pixel occurring will be the segment colours on which the segments will be made \n",
    "def calculate_areas_and_display(image_path, num_segments):\n",
    "    original_image = cv2.imread(image_path)\n",
    "    gray_image = cv2.cvtColor(original_image, cv2.COLOR_BGR2GRAY)\n",
    "    pixels = gray_image.flatten()\n",
    "    pixel_counts = Counter(pixels)\n",
    "    sorted_pixel_counts = dict(sorted(pixel_counts.items(), key=lambda item: item[1], reverse=True))\n",
    "    segment_colors = list(sorted_pixel_counts.keys())[:num_segments]\n",
    "    segment_sizes = {}\n",
    "    contour_colors = [(0, 0, 255), (0, 255, 0), (255, 0, 0), (0, 255, 255)]\n",
    "    for i, segment_color in enumerate(segment_colors):\n",
    "        mask = np.where(gray_image == segment_color, 255, 0).astype(np.uint8)\n",
    "        contours, _ = cv2.findContours(mask, cv2.RETR_EXTERNAL, cv2.CHAIN_APPROX_SIMPLE)\n",
    "        area = 0\n",
    "        segment_image = np.zeros_like(original_image)\n",
    "        for j, contour in enumerate(contours):\n",
    "            area += cv2.contourArea(contour)\n",
    "            cv2.drawContours(segment_image, [contour], -1, contour_colors[i], thickness=2)\n",
    "        cv2.putText(segment_image, f\"Area: {area:.2f} pixels\", (10, 30), cv2.FONT_HERSHEY_SIMPLEX, 0.7, (255, 255, 255), 2)\n",
    "        cv2.imshow(f\"Segment {i+1}\", segment_image)\n",
    "        segment_sizes[f\"Segment {i+1}\"] = area\n",
    "    cv2.waitKey(0)\n",
    "    cv2.destroyAllWindows()\n",
    "    return segment_sizes\n",
    "\n",
    "image_path = 'fig1.jpg'\n",
    "num_segments = 4\n",
    "segment_areas = calculate_areas_and_display(image_path, num_segments)\n"
   ]
  }
 ],
 "metadata": {
  "kernelspec": {
   "display_name": "Python 3",
   "language": "python",
   "name": "python3"
  },
  "language_info": {
   "codemirror_mode": {
    "name": "ipython",
    "version": 3
   },
   "file_extension": ".py",
   "mimetype": "text/x-python",
   "name": "python",
   "nbconvert_exporter": "python",
   "pygments_lexer": "ipython3",
   "version": "3.11.5"
  },
  "orig_nbformat": 4
 },
 "nbformat": 4,
 "nbformat_minor": 2
}
