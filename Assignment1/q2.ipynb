{
 "cells": [
  {
   "cell_type": "code",
   "execution_count": 10,
   "metadata": {},
   "outputs": [
    {
     "name": "stdout",
     "output_type": "stream",
     "text": [
      "180.55910582908885\n",
      "160.4565553669119\n",
      "Left image is a Boy\n",
      "Right image is a Girl\n"
     ]
    }
   ],
   "source": [
    "import cv2\n",
    "import numpy as np\n",
    "\n",
    "def determineGender(image_path):\n",
    "    image = cv2.imread(image_path)\n",
    "    gray_image = cv2.cvtColor(image, cv2.COLOR_BGR2GRAY)\n",
    "    average_intensity = np.mean(gray_image)\n",
    "    print(average_intensity)\n",
    "    threshold = 170  # so for thresholding i used 170 as middle ground of average intensity between the two images\n",
    "    if average_intensity < threshold:\n",
    "        return \"Girl\"\n",
    "    else:\n",
    "        return \"Boy\"\n",
    "\n",
    "# Testing the function with images\n",
    "left_image_path = 'fig3.jpg' #average intensity of about 180 for this image\n",
    "right_image_path = 'fig4.jpg' #average intensity of about 160 for this image\n",
    "left_gender = determineGender(left_image_path)\n",
    "right_gender = determineGender(right_image_path)\n",
    "print(\"Left image is a\", left_gender)\n",
    "print(\"Right image is a\", right_gender)\n"
   ]
  }
 ],
 "metadata": {
  "kernelspec": {
   "display_name": "Python 3",
   "language": "python",
   "name": "python3"
  },
  "language_info": {
   "codemirror_mode": {
    "name": "ipython",
    "version": 3
   },
   "file_extension": ".py",
   "mimetype": "text/x-python",
   "name": "python",
   "nbconvert_exporter": "python",
   "pygments_lexer": "ipython3",
   "version": "3.11.5"
  },
  "orig_nbformat": 4
 },
 "nbformat": 4,
 "nbformat_minor": 2
}
